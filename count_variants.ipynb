{
 "cells": [
  {
   "cell_type": "markdown",
   "metadata": {},
   "source": [
    "# Count variants in each sample\n",
    "This Python Jupyter notebook counts occurrences of each barcode in each sample from Illumina barcode sequencing, and adds these counts to the variant table."
   ]
  },
  {
   "cell_type": "markdown",
   "metadata": {},
   "source": [
    "## Set up analysis\n",
    "### Import Python modules.\n",
    "Use [plotnine](https://plotnine.readthedocs.io/en/stable/) for ggplot2-like plotting.\n",
    "\n",
    "The analysis relies heavily on the Bloom lab's [dms_variants](https://jbloomlab.github.io/dms_variants) package:"
   ]
  },
  {
   "cell_type": "code",
   "execution_count": 1,
   "metadata": {
    "execution": {
     "iopub.execute_input": "2020-11-20T20:26:41.444853Z",
     "iopub.status.busy": "2020-11-20T20:26:41.444471Z",
     "iopub.status.idle": "2020-11-20T20:26:43.436903Z",
     "shell.execute_reply": "2020-11-20T20:26:43.437387Z"
    }
   },
   "outputs": [],
   "source": [
    "import itertools\n",
    "import multiprocessing\n",
    "import multiprocessing.pool\n",
    "import os\n",
    "import warnings\n",
    "\n",
    "import alignparse\n",
    "import alignparse.targets\n",
    "\n",
    "import dms_variants.codonvarianttable\n",
    "from dms_variants.constants import CBPALETTE\n",
    "import dms_variants.illuminabarcodeparser\n",
    "import dms_variants.utils\n",
    "import dms_variants.plotnine_themes\n",
    "\n",
    "from IPython.display import display, HTML\n",
    "\n",
    "import pandas as pd\n",
    "\n",
    "from plotnine import *\n",
    "\n",
    "import yaml"
   ]
  },
  {
   "cell_type": "markdown",
   "metadata": {},
   "source": [
    "Set [plotnine](https://plotnine.readthedocs.io/en/stable/) theme to the gray-grid one defined in `dms_variants`:"
   ]
  },
  {
   "cell_type": "code",
   "execution_count": 2,
   "metadata": {
    "execution": {
     "iopub.execute_input": "2020-11-20T20:26:43.439830Z",
     "iopub.status.busy": "2020-11-20T20:26:43.439140Z",
     "iopub.status.idle": "2020-11-20T20:26:43.442797Z",
     "shell.execute_reply": "2020-11-20T20:26:43.443246Z"
    }
   },
   "outputs": [],
   "source": [
    "theme_set(dms_variants.plotnine_themes.theme_graygrid())"
   ]
  },
  {
   "cell_type": "markdown",
   "metadata": {},
   "source": [
    "Versions of key software:"
   ]
  },
  {
   "cell_type": "code",
   "execution_count": 3,
   "metadata": {
    "execution": {
     "iopub.execute_input": "2020-11-20T20:26:43.445471Z",
     "iopub.status.busy": "2020-11-20T20:26:43.444779Z",
     "iopub.status.idle": "2020-11-20T20:26:43.449052Z",
     "shell.execute_reply": "2020-11-20T20:26:43.449500Z"
    }
   },
   "outputs": [
    {
     "name": "stdout",
     "output_type": "stream",
     "text": [
      "Using alignparse version 0.1.6\n",
      "Using dms_variants version 0.8.5\n"
     ]
    }
   ],
   "source": [
    "print(f\"Using alignparse version {alignparse.__version__}\")\n",
    "print(f\"Using dms_variants version {dms_variants.__version__}\")"
   ]
  },
  {
   "cell_type": "markdown",
   "metadata": {},
   "source": [
    "Ignore warnings that clutter output:"
   ]
  },
  {
   "cell_type": "code",
   "execution_count": 4,
   "metadata": {
    "execution": {
     "iopub.execute_input": "2020-11-20T20:26:43.451662Z",
     "iopub.status.busy": "2020-11-20T20:26:43.450973Z",
     "iopub.status.idle": "2020-11-20T20:26:43.453924Z",
     "shell.execute_reply": "2020-11-20T20:26:43.454370Z"
    }
   },
   "outputs": [],
   "source": [
    "warnings.simplefilter('ignore')"
   ]
  },
  {
   "cell_type": "markdown",
   "metadata": {},
   "source": [
    "### Parameters for notebook\n",
    "Read the configuration file:"
   ]
  },
  {
   "cell_type": "code",
   "execution_count": 5,
   "metadata": {
    "execution": {
     "iopub.execute_input": "2020-11-20T20:26:43.456582Z",
     "iopub.status.busy": "2020-11-20T20:26:43.455895Z",
     "iopub.status.idle": "2020-11-20T20:26:43.471628Z",
     "shell.execute_reply": "2020-11-20T20:26:43.472079Z"
    }
   },
   "outputs": [],
   "source": [
    "with open('config.yaml') as f:\n",
    "    config = yaml.safe_load(f)"
   ]
  },
  {
   "cell_type": "markdown",
   "metadata": {},
   "source": [
    "Make output directory if needed:"
   ]
  },
  {
   "cell_type": "code",
   "execution_count": 6,
   "metadata": {
    "execution": {
     "iopub.execute_input": "2020-11-20T20:26:43.474248Z",
     "iopub.status.busy": "2020-11-20T20:26:43.473559Z",
     "iopub.status.idle": "2020-11-20T20:26:43.476862Z",
     "shell.execute_reply": "2020-11-20T20:26:43.477308Z"
    }
   },
   "outputs": [],
   "source": [
    "os.makedirs(config['counts_dir'], exist_ok=True)"
   ]
  },
  {
   "cell_type": "markdown",
   "metadata": {},
   "source": [
    "## Input variant table\n",
    "Initialize the input table from the `process_ccs` analysis notebook:"
   ]
  },
  {
   "cell_type": "code",
   "execution_count": 7,
   "metadata": {
    "execution": {
     "iopub.execute_input": "2020-11-20T20:26:43.479535Z",
     "iopub.status.busy": "2020-11-20T20:26:43.478845Z",
     "iopub.status.idle": "2020-11-20T20:26:43.533423Z",
     "shell.execute_reply": "2020-11-20T20:26:43.533886Z"
    }
   },
   "outputs": [
    {
     "data": {
      "text/html": [
       "<table border=\"1\" class=\"dataframe\">\n",
       "  <thead>\n",
       "    <tr style=\"text-align: right;\">\n",
       "      <th>target</th>\n",
       "      <th>library</th>\n",
       "      <th>barcode</th>\n",
       "      <th>substitutions</th>\n",
       "      <th>variant_call_support</th>\n",
       "      <th>number_of_indels</th>\n",
       "    </tr>\n",
       "  </thead>\n",
       "  <tbody>\n",
       "    <tr>\n",
       "      <td>AncSARS1a_tree1</td>\n",
       "      <td>lib1</td>\n",
       "      <td>AAAAAAAAAGTGAAAG</td>\n",
       "      <td>NaN</td>\n",
       "      <td>3</td>\n",
       "      <td>0</td>\n",
       "    </tr>\n",
       "    <tr>\n",
       "      <td>ZXC21</td>\n",
       "      <td>lib1</td>\n",
       "      <td>AAAAAAAAAGTTACTA</td>\n",
       "      <td>NaN</td>\n",
       "      <td>4</td>\n",
       "      <td>0</td>\n",
       "    </tr>\n",
       "    <tr>\n",
       "      <td>HeB2013</td>\n",
       "      <td>lib1</td>\n",
       "      <td>AAAAAAAAATGAGGAC</td>\n",
       "      <td>NaN</td>\n",
       "      <td>3</td>\n",
       "      <td>0</td>\n",
       "    </tr>\n",
       "    <tr>\n",
       "      <td>AncAsia_tree2</td>\n",
       "      <td>lib1</td>\n",
       "      <td>AAAAAAAAATGCCATG</td>\n",
       "      <td>NaN</td>\n",
       "      <td>3</td>\n",
       "      <td>0</td>\n",
       "    </tr>\n",
       "    <tr>\n",
       "      <td>AncSARS-CoV-1_alt</td>\n",
       "      <td>lib1</td>\n",
       "      <td>AAAAAAAACACTTAGA</td>\n",
       "      <td>NaN</td>\n",
       "      <td>1</td>\n",
       "      <td>0</td>\n",
       "    </tr>\n",
       "  </tbody>\n",
       "</table>"
      ],
      "text/plain": [
       "<IPython.core.display.HTML object>"
      ]
     },
     "metadata": {},
     "output_type": "display_data"
    }
   ],
   "source": [
    "variants = pd.read_csv(config['barcode_variant_table'])\n",
    "\n",
    "display(HTML(variants.head().to_html(index=False)))"
   ]
  },
  {
   "cell_type": "markdown",
   "metadata": {},
   "source": [
    "Pull out a target sequence for matching to the barcode and flanking sequence regions."
   ]
  },
  {
   "cell_type": "code",
   "execution_count": 8,
   "metadata": {
    "execution": {
     "iopub.execute_input": "2020-11-20T20:26:43.536198Z",
     "iopub.status.busy": "2020-11-20T20:26:43.535500Z",
     "iopub.status.idle": "2020-11-20T20:26:43.622862Z",
     "shell.execute_reply": "2020-11-20T20:26:43.623345Z"
    }
   },
   "outputs": [],
   "source": [
    "# get wildtype gene sequence for primary target\n",
    "targets = alignparse.targets.Targets(seqsfile=config['amplicons'],\n",
    "                                     feature_parse_specs=config['feature_parse_specs'])"
   ]
  },
  {
   "cell_type": "markdown",
   "metadata": {},
   "source": [
    "## Setup to parse barcodes\n",
    "Read data frame with list of all barcode runs.\n",
    "Note how multiple R1 files are delimited by `; ` and are split out separately:"
   ]
  },
  {
   "cell_type": "code",
   "execution_count": 9,
   "metadata": {
    "execution": {
     "iopub.execute_input": "2020-11-20T20:26:43.625882Z",
     "iopub.status.busy": "2020-11-20T20:26:43.625062Z",
     "iopub.status.idle": "2020-11-20T20:26:43.639497Z",
     "shell.execute_reply": "2020-11-20T20:26:43.639953Z"
    }
   },
   "outputs": [
    {
     "name": "stdout",
     "output_type": "stream",
     "text": [
      "Reading list of barcode runs from data/barcode_runs.csv\n"
     ]
    },
    {
     "data": {
      "text/html": [
       "<table border=\"1\" class=\"dataframe\">\n",
       "  <thead>\n",
       "    <tr style=\"text-align: right;\">\n",
       "      <th>date</th>\n",
       "      <th>experiment</th>\n",
       "      <th>library</th>\n",
       "      <th>antibody</th>\n",
       "      <th>concentration</th>\n",
       "      <th>concentration_units</th>\n",
       "      <th>group</th>\n",
       "      <th>selection</th>\n",
       "      <th>sample</th>\n",
       "      <th>frac_escape</th>\n",
       "      <th>cells_sorted</th>\n",
       "      <th>R1</th>\n",
       "    </tr>\n",
       "  </thead>\n",
       "  <tbody>\n",
       "    <tr>\n",
       "      <td>201106</td>\n",
       "      <td>expt_68-73</td>\n",
       "      <td>lib1</td>\n",
       "      <td>none</td>\n",
       "      <td>0</td>\n",
       "      <td>ng_per_mL</td>\n",
       "      <td>Vir</td>\n",
       "      <td>reference</td>\n",
       "      <td>expt_68-73-none-0-reference</td>\n",
       "      <td>NaN</td>\n",
       "      <td>NaN</td>\n",
       "      <td>[/shared/ngs/illumina/tstarr/201123_D00300_1119_BHJKJTBCX3/Unaligned/Project_tstarr/expt68_73_hom_ref_S119_R1_001.fastq.gz, /shared/ngs/illumina/tstarr/201116_D00300_1113_BHJKKFBCX3/Unaligned/Project_tstarr/expt68_73_hom_ref_S23_R1_001.fastq.gz]</td>\n",
       "    </tr>\n",
       "    <tr>\n",
       "      <td>201106</td>\n",
       "      <td>expt_68</td>\n",
       "      <td>lib1</td>\n",
       "      <td>S309</td>\n",
       "      <td>421</td>\n",
       "      <td>ng_per_mL</td>\n",
       "      <td>Vir</td>\n",
       "      <td>escape</td>\n",
       "      <td>expt_68-S309-421-escape</td>\n",
       "      <td>0.490</td>\n",
       "      <td>858224.0</td>\n",
       "      <td>[/shared/ngs/illumina/tstarr/201123_D00300_1119_BHJKJTBCX3/Unaligned/Project_tstarr/expt70_lib1_Abneg_S126_R1_001.fastq.gz, /shared/ngs/illumina/tstarr/201116_D00300_1113_BHJKKFBCX3/Unaligned/Project_tstarr/expt70_lib1_Abneg_S30_R1_001.fastq.gz]</td>\n",
       "    </tr>\n",
       "    <tr>\n",
       "      <td>201106</td>\n",
       "      <td>expt_69</td>\n",
       "      <td>lib1</td>\n",
       "      <td>S2E12</td>\n",
       "      <td>56</td>\n",
       "      <td>ng_per_mL</td>\n",
       "      <td>Vir</td>\n",
       "      <td>escape</td>\n",
       "      <td>expt_69-S2E12-56-escape</td>\n",
       "      <td>0.890</td>\n",
       "      <td>1754530.0</td>\n",
       "      <td>[/shared/ngs/illumina/tstarr/201123_D00300_1119_BHJKJTBCX3/Unaligned/Project_tstarr/expt71_lib1_Abneg_S129_R1_001.fastq.gz, /shared/ngs/illumina/tstarr/201116_D00300_1113_BHJKKFBCX3/Unaligned/Project_tstarr/expt71_lib1_Abneg_S33_R1_001.fastq.gz]</td>\n",
       "    </tr>\n",
       "    <tr>\n",
       "      <td>201106</td>\n",
       "      <td>expt_70</td>\n",
       "      <td>lib1</td>\n",
       "      <td>S2X35</td>\n",
       "      <td>70</td>\n",
       "      <td>ng_per_mL</td>\n",
       "      <td>Vir</td>\n",
       "      <td>escape</td>\n",
       "      <td>expt_70-S2X35-70-escape</td>\n",
       "      <td>0.444</td>\n",
       "      <td>864623.0</td>\n",
       "      <td>[/shared/ngs/illumina/tstarr/201123_D00300_1119_BHJKJTBCX3/Unaligned/Project_tstarr/expt72_lib1_Abneg_S132_R1_001.fastq.gz, /shared/ngs/illumina/tstarr/201116_D00300_1113_BHJKKFBCX3/Unaligned/Project_tstarr/expt72_lib1_Abneg_S36_R1_001.fastq.gz]</td>\n",
       "    </tr>\n",
       "    <tr>\n",
       "      <td>201106</td>\n",
       "      <td>expt_71</td>\n",
       "      <td>lib1</td>\n",
       "      <td>S2X259</td>\n",
       "      <td>59</td>\n",
       "      <td>ng_per_mL</td>\n",
       "      <td>Vir</td>\n",
       "      <td>escape</td>\n",
       "      <td>expt_71-S2X259-59-escape</td>\n",
       "      <td>0.421</td>\n",
       "      <td>805434.0</td>\n",
       "      <td>[/shared/ngs/illumina/tstarr/201123_D00300_1119_BHJKJTBCX3/Unaligned/Project_tstarr/expt69_lib1_Abneg_S123_R1_001.fastq.gz, /shared/ngs/illumina/tstarr/201116_D00300_1113_BHJKKFBCX3/Unaligned/Project_tstarr/expt69_lib1_Abneg_S27_R1_001.fastq.gz]</td>\n",
       "    </tr>\n",
       "    <tr>\n",
       "      <td>201106</td>\n",
       "      <td>expt_72</td>\n",
       "      <td>lib1</td>\n",
       "      <td>S2X58</td>\n",
       "      <td>18</td>\n",
       "      <td>ng_per_mL</td>\n",
       "      <td>Vir</td>\n",
       "      <td>escape</td>\n",
       "      <td>expt_72-S2X58-18-escape</td>\n",
       "      <td>0.925</td>\n",
       "      <td>1770393.0</td>\n",
       "      <td>[/shared/ngs/illumina/tstarr/201123_D00300_1119_BHJKJTBCX3/Unaligned/Project_tstarr/expt72_homolog_Abneg_S134_R1_001.fastq.gz, /shared/ngs/illumina/tstarr/201116_D00300_1113_BHJKKFBCX3/Unaligned/Project_tstarr/expt72_homolog_Abneg_S38_R1_001.fastq.gz]</td>\n",
       "    </tr>\n",
       "    <tr>\n",
       "      <td>201106</td>\n",
       "      <td>expt_73</td>\n",
       "      <td>lib1</td>\n",
       "      <td>S304</td>\n",
       "      <td>46</td>\n",
       "      <td>ng_per_mL</td>\n",
       "      <td>Vir</td>\n",
       "      <td>escape</td>\n",
       "      <td>expt_73-S304-46-escape</td>\n",
       "      <td>0.412</td>\n",
       "      <td>817857.0</td>\n",
       "      <td>[/shared/ngs/illumina/tstarr/201123_D00300_1119_BHJKJTBCX3/Unaligned/Project_tstarr/expt73_homolog_Abneg_S137_R1_001.fastq.gz, /shared/ngs/illumina/tstarr/201116_D00300_1113_BHJKKFBCX3/Unaligned/Project_tstarr/expt73_homolog_Abneg_S41_R1_001.fastq.gz]</td>\n",
       "    </tr>\n",
       "    <tr>\n",
       "      <td>201109</td>\n",
       "      <td>expt_74-78</td>\n",
       "      <td>lib1</td>\n",
       "      <td>none</td>\n",
       "      <td>0</td>\n",
       "      <td>ng_per_mL</td>\n",
       "      <td>Vir</td>\n",
       "      <td>reference</td>\n",
       "      <td>expt_74-78-none-0-reference</td>\n",
       "      <td>NaN</td>\n",
       "      <td>NaN</td>\n",
       "      <td>[/shared/ngs/illumina/tstarr/201123_D00300_1119_BHJKJTBCX3/Unaligned/Project_tstarr/expt74_78_hom_ref_S161_R1_001.fastq.gz, /shared/ngs/illumina/tstarr/201116_D00300_1113_BHJKKFBCX3/Unaligned/Project_tstarr/expt74_78_hom_ref_S65_R1_001.fastq.gz]</td>\n",
       "    </tr>\n",
       "    <tr>\n",
       "      <td>201109</td>\n",
       "      <td>expt_74</td>\n",
       "      <td>lib1</td>\n",
       "      <td>S2H58</td>\n",
       "      <td>46</td>\n",
       "      <td>ng_per_mL</td>\n",
       "      <td>Vir</td>\n",
       "      <td>escape</td>\n",
       "      <td>expt_74-S2H58-46-escape</td>\n",
       "      <td>0.893</td>\n",
       "      <td>1434377.0</td>\n",
       "      <td>[/shared/ngs/illumina/tstarr/201123_D00300_1119_BHJKJTBCX3/Unaligned/Project_tstarr/expt74_homolog_Abneg_S140_R1_001.fastq.gz, /shared/ngs/illumina/tstarr/201116_D00300_1113_BHJKKFBCX3/Unaligned/Project_tstarr/expt74_homolog_Abneg_S44_R1_001.fastq.gz]</td>\n",
       "    </tr>\n",
       "    <tr>\n",
       "      <td>201109</td>\n",
       "      <td>expt_75</td>\n",
       "      <td>lib1</td>\n",
       "      <td>S2D106</td>\n",
       "      <td>68</td>\n",
       "      <td>ng_per_mL</td>\n",
       "      <td>Vir</td>\n",
       "      <td>escape</td>\n",
       "      <td>expt_75-S2D106-68-escape</td>\n",
       "      <td>0.890</td>\n",
       "      <td>1494533.0</td>\n",
       "      <td>[/shared/ngs/illumina/tstarr/201123_D00300_1119_BHJKJTBCX3/Unaligned/Project_tstarr/expt75_homolog_Abneg_S143_R1_001.fastq.gz, /shared/ngs/illumina/tstarr/201116_D00300_1113_BHJKKFBCX3/Unaligned/Project_tstarr/expt75_homolog_Abneg_S47_R1_001.fastq.gz]</td>\n",
       "    </tr>\n",
       "    <tr>\n",
       "      <td>201109</td>\n",
       "      <td>expt_76</td>\n",
       "      <td>lib1</td>\n",
       "      <td>S2M11</td>\n",
       "      <td>19</td>\n",
       "      <td>ng_per_mL</td>\n",
       "      <td>Vir</td>\n",
       "      <td>escape</td>\n",
       "      <td>expt_76-S2M11-19-escape</td>\n",
       "      <td>0.948</td>\n",
       "      <td>1214859.0</td>\n",
       "      <td>[/shared/ngs/illumina/tstarr/201123_D00300_1119_BHJKJTBCX3/Unaligned/Project_tstarr/expt76_homolog_Abneg_S146_R1_001.fastq.gz, /shared/ngs/illumina/tstarr/201116_D00300_1113_BHJKKFBCX3/Unaligned/Project_tstarr/expt76_homolog_Abneg_S50_R1_001.fastq.gz]</td>\n",
       "    </tr>\n",
       "    <tr>\n",
       "      <td>201109</td>\n",
       "      <td>expt_77</td>\n",
       "      <td>lib1</td>\n",
       "      <td>S2X16</td>\n",
       "      <td>54</td>\n",
       "      <td>ng_per_mL</td>\n",
       "      <td>Vir</td>\n",
       "      <td>escape</td>\n",
       "      <td>expt_77-S2X16-54-escape</td>\n",
       "      <td>0.891</td>\n",
       "      <td>1247076.0</td>\n",
       "      <td>[/shared/ngs/illumina/tstarr/201123_D00300_1119_BHJKJTBCX3/Unaligned/Project_tstarr/expt77_homolog_Abneg_S149_R1_001.fastq.gz, /shared/ngs/illumina/tstarr/201116_D00300_1113_BHJKKFBCX3/Unaligned/Project_tstarr/expt77_homolog_Abneg_S53_R1_001.fastq.gz]</td>\n",
       "    </tr>\n",
       "    <tr>\n",
       "      <td>201109</td>\n",
       "      <td>expt_78</td>\n",
       "      <td>lib1</td>\n",
       "      <td>S2X227</td>\n",
       "      <td>138</td>\n",
       "      <td>ng_per_mL</td>\n",
       "      <td>Vir</td>\n",
       "      <td>escape</td>\n",
       "      <td>expt_78-S2X227-138-escape</td>\n",
       "      <td>0.933</td>\n",
       "      <td>1307137.0</td>\n",
       "      <td>[/shared/ngs/illumina/tstarr/201123_D00300_1119_BHJKJTBCX3/Unaligned/Project_tstarr/expt78_homolog_Abneg_S152_R1_001.fastq.gz, /shared/ngs/illumina/tstarr/201116_D00300_1113_BHJKKFBCX3/Unaligned/Project_tstarr/expt78_homolog_Abneg_S56_R1_001.fastq.gz]</td>\n",
       "    </tr>\n",
       "  </tbody>\n",
       "</table>"
      ],
      "text/plain": [
       "<IPython.core.display.HTML object>"
      ]
     },
     "metadata": {},
     "output_type": "display_data"
    }
   ],
   "source": [
    "print(f\"Reading list of barcode runs from {config['barcode_runs']}\")\n",
    "\n",
    "barcode_runs = (pd.read_csv(config['barcode_runs'])\n",
    "                .assign(R1=lambda x: x['R1'].str.split('; '))\n",
    "                )\n",
    "      \n",
    "display(HTML(barcode_runs.to_html(index=False)))"
   ]
  },
  {
   "cell_type": "markdown",
   "metadata": {},
   "source": [
    "Make sure library / sample combinations are unique:"
   ]
  },
  {
   "cell_type": "code",
   "execution_count": 10,
   "metadata": {
    "execution": {
     "iopub.execute_input": "2020-11-20T20:26:43.642197Z",
     "iopub.status.busy": "2020-11-20T20:26:43.641506Z",
     "iopub.status.idle": "2020-11-20T20:26:43.646074Z",
     "shell.execute_reply": "2020-11-20T20:26:43.646529Z"
    }
   },
   "outputs": [],
   "source": [
    "assert len(barcode_runs) == len(barcode_runs.groupby(['library', 'sample']))"
   ]
  },
  {
   "cell_type": "markdown",
   "metadata": {},
   "source": [
    "Make sure the the libraries for which we have barcode runs are all in our variant table:"
   ]
  },
  {
   "cell_type": "code",
   "execution_count": 11,
   "metadata": {
    "execution": {
     "iopub.execute_input": "2020-11-20T20:26:43.648796Z",
     "iopub.status.busy": "2020-11-20T20:26:43.648092Z",
     "iopub.status.idle": "2020-11-20T20:26:43.654025Z",
     "shell.execute_reply": "2020-11-20T20:26:43.654476Z"
    }
   },
   "outputs": [],
   "source": [
    "unknown_libs = set(barcode_runs['library']) - set(variants['library'])\n",
    "if unknown_libs:\n",
    "    raise ValueError(f\"Libraries with barcode runs not in variant table: {unknown_libs}\")"
   ]
  },
  {
   "cell_type": "markdown",
   "metadata": {},
   "source": [
    "Now we initialize an [IlluminaBarcodeParser](https://jbloomlab.github.io/dms_variants/dms_variants.illuminabarcodeparser.html#dms_variants.illuminabarcodeparser.IlluminaBarcodeParser) for each library.\n",
    "\n",
    "First, get the length of the barcode from the alignment target after making sure the same length for all targets:"
   ]
  },
  {
   "cell_type": "code",
   "execution_count": 12,
   "metadata": {
    "execution": {
     "iopub.execute_input": "2020-11-20T20:26:43.656656Z",
     "iopub.status.busy": "2020-11-20T20:26:43.655957Z",
     "iopub.status.idle": "2020-11-20T20:26:43.660412Z",
     "shell.execute_reply": "2020-11-20T20:26:43.660874Z"
    }
   },
   "outputs": [
    {
     "name": "stdout",
     "output_type": "stream",
     "text": [
      "Barcodes of length 16\n"
     ]
    }
   ],
   "source": [
    "bclen = len(targets.targets[0].get_feature('barcode').seq)\n",
    "\n",
    "assert (bclen == len(target.get_feature('barcode').seq) for target in targets.targets)\n",
    "\n",
    "print(f\"Barcodes of length {bclen}\")"
   ]
  },
  {
   "cell_type": "markdown",
   "metadata": {},
   "source": [
    "The other barcode parsing params come from the config file:"
   ]
  },
  {
   "cell_type": "code",
   "execution_count": 13,
   "metadata": {
    "execution": {
     "iopub.execute_input": "2020-11-20T20:26:43.663103Z",
     "iopub.status.busy": "2020-11-20T20:26:43.662408Z",
     "iopub.status.idle": "2020-11-20T20:26:43.669248Z",
     "shell.execute_reply": "2020-11-20T20:26:43.669703Z"
    }
   },
   "outputs": [
    {
     "data": {
      "text/html": [
       "<table border=\"1\" class=\"dataframe\">\n",
       "  <thead>\n",
       "    <tr style=\"text-align: right;\">\n",
       "      <th>parameter</th>\n",
       "      <th>value</th>\n",
       "    </tr>\n",
       "  </thead>\n",
       "  <tbody>\n",
       "    <tr>\n",
       "      <td>upstream</td>\n",
       "      <td>GGCCGC</td>\n",
       "    </tr>\n",
       "    <tr>\n",
       "      <td>downstream</td>\n",
       "      <td></td>\n",
       "    </tr>\n",
       "    <tr>\n",
       "      <td>minq</td>\n",
       "      <td>20</td>\n",
       "    </tr>\n",
       "    <tr>\n",
       "      <td>upstream_mismatch</td>\n",
       "      <td>1</td>\n",
       "    </tr>\n",
       "    <tr>\n",
       "      <td>downstream_mismatch</td>\n",
       "      <td>0</td>\n",
       "    </tr>\n",
       "  </tbody>\n",
       "</table>"
      ],
      "text/plain": [
       "<IPython.core.display.HTML object>"
      ]
     },
     "metadata": {},
     "output_type": "display_data"
    }
   ],
   "source": [
    "parser_params = config['illumina_barcode_parser_params']\n",
    "\n",
    "display(HTML(\n",
    "    pd.Series(parser_params, name='value')\n",
    "    .rename_axis(index='parameter')\n",
    "    .reset_index()\n",
    "    .to_html(index=False)\n",
    "    ))"
   ]
  },
  {
   "cell_type": "markdown",
   "metadata": {},
   "source": [
    "The parser needs to know the set of valid barcodes, which are stored in the variant table and are different for each library.\n",
    "So we create a different parser for each library using these valid barcode sets:"
   ]
  },
  {
   "cell_type": "code",
   "execution_count": 14,
   "metadata": {
    "execution": {
     "iopub.execute_input": "2020-11-20T20:26:43.671917Z",
     "iopub.status.busy": "2020-11-20T20:26:43.671211Z",
     "iopub.status.idle": "2020-11-20T20:26:43.702431Z",
     "shell.execute_reply": "2020-11-20T20:26:43.702898Z"
    }
   },
   "outputs": [
    {
     "name": "stdout",
     "output_type": "stream",
     "text": [
      "Number of valid barcodes searched for by each parser:\n"
     ]
    },
    {
     "data": {
      "text/html": [
       "<table border=\"1\" class=\"dataframe\">\n",
       "  <thead>\n",
       "    <tr style=\"text-align: right;\">\n",
       "      <th>library</th>\n",
       "      <th>number of valid barcodes</th>\n",
       "    </tr>\n",
       "  </thead>\n",
       "  <tbody>\n",
       "    <tr>\n",
       "      <td>lib1</td>\n",
       "      <td>25896</td>\n",
       "    </tr>\n",
       "    <tr>\n",
       "      <td>lib2</td>\n",
       "      <td>23259</td>\n",
       "    </tr>\n",
       "  </tbody>\n",
       "</table>"
      ],
      "text/plain": [
       "<IPython.core.display.HTML object>"
      ]
     },
     "metadata": {},
     "output_type": "display_data"
    }
   ],
   "source": [
    "# create dict keyed by library, value is parser for library\n",
    "parsers = {lib: dms_variants.illuminabarcodeparser.IlluminaBarcodeParser(\n",
    "                    bclen=bclen,\n",
    "                    valid_barcodes=variants.loc[variants['library']==lib]['barcode'],\n",
    "                    **parser_params)\n",
    "           for lib in set(variants['library'])}\n",
    "\n",
    "print('Number of valid barcodes searched for by each parser:')\n",
    "display(HTML(\n",
    "    pd.DataFrame([(lib, len(p.valid_barcodes)) for lib, p in parsers.items()],\n",
    "                 columns=['library', 'number of valid barcodes'])\n",
    "    .to_html(index=False)\n",
    "    ))"
   ]
  },
  {
   "cell_type": "markdown",
   "metadata": {},
   "source": [
    "## Parse barcodes\n",
    "We now parse the barcodes.\n",
    "Since this will take a while, we utilize multiple CPUs via the Python [multiprocessing](https://docs.python.org/3.6/library/multiprocessing.html) module.\n",
    "First, determine how many CPUs to use.\n",
    "We use the minimum of the user-specified number hardcoded below and the number actually available.\n",
    "(If you are running *interactively* on the Hutch cluster, you may need to reduce the number below in order to avoid an error as there is an enforced CPU limit on the home `rhino` nodes):"
   ]
  },
  {
   "cell_type": "code",
   "execution_count": 15,
   "metadata": {
    "execution": {
     "iopub.execute_input": "2020-11-20T20:26:43.705276Z",
     "iopub.status.busy": "2020-11-20T20:26:43.704565Z",
     "iopub.status.idle": "2020-11-20T20:26:43.708757Z",
     "shell.execute_reply": "2020-11-20T20:26:43.709210Z"
    }
   },
   "outputs": [
    {
     "name": "stdout",
     "output_type": "stream",
     "text": [
      "Using 16 CPUs\n"
     ]
    }
   ],
   "source": [
    "ncpus = min(config['max_cpus'], multiprocessing.cpu_count())\n",
    "print(f\"Using {ncpus} CPUs\")"
   ]
  },
  {
   "cell_type": "markdown",
   "metadata": {},
   "source": [
    "Parse the barcodes in parallel via a [multiprocessing.Pool](https://docs.python.org/3.6/library/multiprocessing.html#multiprocessing.pool.Pool) using all the available CPUs to get a list of the data frames with barcode counts / fates for each sample:"
   ]
  },
  {
   "cell_type": "code",
   "execution_count": 16,
   "metadata": {
    "execution": {
     "iopub.execute_input": "2020-11-20T20:26:43.711396Z",
     "iopub.status.busy": "2020-11-20T20:26:43.710685Z",
     "iopub.status.idle": "2020-11-20T20:34:10.722076Z",
     "shell.execute_reply": "2020-11-20T20:34:10.721531Z"
    }
   },
   "outputs": [],
   "source": [
    "def process_func(parser, r1files, library, sample):\n",
    "    \"\"\"Convenience function to be starmapped to multiprocessing pool.\"\"\"\n",
    "    return parser.parse(r1files, add_cols={'library': library, 'sample': sample})\n",
    "\n",
    "# parallel computation of list of data frames\n",
    "with multiprocessing.pool.Pool(processes=ncpus) as pool:\n",
    "    bclist = pool.starmap(\n",
    "                process_func,\n",
    "                [(parsers[run.library], run.R1, run.library, run.sample)\n",
    "                  for run in barcode_runs.itertuples()],\n",
    "                )"
   ]
  },
  {
   "cell_type": "markdown",
   "metadata": {},
   "source": [
    "Now concatenate the list into data frames of barcode counts and barcode fates:"
   ]
  },
  {
   "cell_type": "code",
   "execution_count": 17,
   "metadata": {
    "execution": {
     "iopub.execute_input": "2020-11-20T20:34:10.729979Z",
     "iopub.status.busy": "2020-11-20T20:34:10.729593Z",
     "iopub.status.idle": "2020-11-20T20:34:10.808507Z",
     "shell.execute_reply": "2020-11-20T20:34:10.808988Z"
    }
   },
   "outputs": [
    {
     "name": "stdout",
     "output_type": "stream",
     "text": [
      "First few lines of counts data frame:\n"
     ]
    },
    {
     "data": {
      "text/html": [
       "<table border=\"1\" class=\"dataframe\">\n",
       "  <thead>\n",
       "    <tr style=\"text-align: right;\">\n",
       "      <th>barcode</th>\n",
       "      <th>count</th>\n",
       "      <th>library</th>\n",
       "      <th>sample</th>\n",
       "    </tr>\n",
       "  </thead>\n",
       "  <tbody>\n",
       "    <tr>\n",
       "      <td>AACGAAACCTCTGTCA</td>\n",
       "      <td>2301</td>\n",
       "      <td>lib1</td>\n",
       "      <td>expt_68-73-none-0-reference</td>\n",
       "    </tr>\n",
       "    <tr>\n",
       "      <td>ATTGGCTTACTAAATA</td>\n",
       "      <td>2073</td>\n",
       "      <td>lib1</td>\n",
       "      <td>expt_68-73-none-0-reference</td>\n",
       "    </tr>\n",
       "    <tr>\n",
       "      <td>CGATAATATAGACAAG</td>\n",
       "      <td>2051</td>\n",
       "      <td>lib1</td>\n",
       "      <td>expt_68-73-none-0-reference</td>\n",
       "    </tr>\n",
       "    <tr>\n",
       "      <td>CGCACAAACTAGTAGT</td>\n",
       "      <td>1855</td>\n",
       "      <td>lib1</td>\n",
       "      <td>expt_68-73-none-0-reference</td>\n",
       "    </tr>\n",
       "    <tr>\n",
       "      <td>AATGGAATATTCACAT</td>\n",
       "      <td>1825</td>\n",
       "      <td>lib1</td>\n",
       "      <td>expt_68-73-none-0-reference</td>\n",
       "    </tr>\n",
       "  </tbody>\n",
       "</table>"
      ],
      "text/plain": [
       "<IPython.core.display.HTML object>"
      ]
     },
     "metadata": {},
     "output_type": "display_data"
    },
    {
     "name": "stdout",
     "output_type": "stream",
     "text": [
      "First few lines of fates data frame:\n"
     ]
    },
    {
     "data": {
      "text/html": [
       "<table border=\"1\" class=\"dataframe\">\n",
       "  <thead>\n",
       "    <tr style=\"text-align: right;\">\n",
       "      <th>fate</th>\n",
       "      <th>count</th>\n",
       "      <th>library</th>\n",
       "      <th>sample</th>\n",
       "    </tr>\n",
       "  </thead>\n",
       "  <tbody>\n",
       "    <tr>\n",
       "      <td>valid barcode</td>\n",
       "      <td>6480493</td>\n",
       "      <td>lib1</td>\n",
       "      <td>expt_68-73-none-0-reference</td>\n",
       "    </tr>\n",
       "    <tr>\n",
       "      <td>invalid barcode</td>\n",
       "      <td>2455034</td>\n",
       "      <td>lib1</td>\n",
       "      <td>expt_68-73-none-0-reference</td>\n",
       "    </tr>\n",
       "    <tr>\n",
       "      <td>low quality barcode</td>\n",
       "      <td>479114</td>\n",
       "      <td>lib1</td>\n",
       "      <td>expt_68-73-none-0-reference</td>\n",
       "    </tr>\n",
       "    <tr>\n",
       "      <td>failed chastity filter</td>\n",
       "      <td>213176</td>\n",
       "      <td>lib1</td>\n",
       "      <td>expt_68-73-none-0-reference</td>\n",
       "    </tr>\n",
       "    <tr>\n",
       "      <td>unparseable barcode</td>\n",
       "      <td>103814</td>\n",
       "      <td>lib1</td>\n",
       "      <td>expt_68-73-none-0-reference</td>\n",
       "    </tr>\n",
       "  </tbody>\n",
       "</table>"
      ],
      "text/plain": [
       "<IPython.core.display.HTML object>"
      ]
     },
     "metadata": {},
     "output_type": "display_data"
    }
   ],
   "source": [
    "counts = pd.concat([samplecounts for samplecounts, _ in bclist],\n",
    "                   sort=False,\n",
    "                   ignore_index=True)\n",
    "\n",
    "print('First few lines of counts data frame:')\n",
    "display(HTML(counts.head().to_html(index=False)))\n",
    "\n",
    "fates = pd.concat([samplefates for _, samplefates in bclist],\n",
    "                  sort=False,\n",
    "                  ignore_index=True)\n",
    "\n",
    "print('First few lines of fates data frame:')\n",
    "display(HTML(fates.head().to_html(index=False)))"
   ]
  },
  {
   "cell_type": "markdown",
   "metadata": {},
   "source": [
    "## Examine fates of parsed barcodes\n",
    "First, we'll analyze the \"fates\" of the parsed barcodes.\n",
    "These fates represent what happened to each Illumina read we parsed:\n",
    " - Did the barcode read fail the Illumina chastity filter?\n",
    " - Was the barcode *unparseable* (i.e., the read didn't appear to be a valid barcode based on flanking regions)?\n",
    " - Was the barcode sequence too *low quality* based on the Illumina quality scores?\n",
    " - Was the barcode parseable but *invalid* (i.e., not in our list of variant-associated barcodes in the codon variant table)?\n",
    " - Was the barcode *valid*, and so will be added to variant counts.\n",
    " \n",
    "First, we just write a CSV file with all the barcode fates:"
   ]
  },
  {
   "cell_type": "code",
   "execution_count": 18,
   "metadata": {
    "execution": {
     "iopub.execute_input": "2020-11-20T20:34:10.811357Z",
     "iopub.status.busy": "2020-11-20T20:34:10.810650Z",
     "iopub.status.idle": "2020-11-20T20:34:10.826438Z",
     "shell.execute_reply": "2020-11-20T20:34:10.826893Z"
    }
   },
   "outputs": [
    {
     "name": "stdout",
     "output_type": "stream",
     "text": [
      "Writing barcode fates to results/counts/barcode_fates.csv\n"
     ]
    }
   ],
   "source": [
    "fatesfile = os.path.join(config['counts_dir'], 'barcode_fates.csv')\n",
    "print(f\"Writing barcode fates to {fatesfile}\")\n",
    "fates.to_csv(fatesfile, index=False)"
   ]
  },
  {
   "cell_type": "markdown",
   "metadata": {},
   "source": [
    "Next, we tabulate the barcode fates in wide format:"
   ]
  },
  {
   "cell_type": "code",
   "execution_count": 19,
   "metadata": {
    "execution": {
     "iopub.execute_input": "2020-11-20T20:34:10.829222Z",
     "iopub.status.busy": "2020-11-20T20:34:10.828506Z",
     "iopub.status.idle": "2020-11-20T20:34:10.844322Z",
     "shell.execute_reply": "2020-11-20T20:34:10.844795Z"
    }
   },
   "outputs": [
    {
     "data": {
      "text/html": [
       "<table border=\"1\" class=\"dataframe\">\n",
       "  <thead>\n",
       "    <tr style=\"text-align: right;\">\n",
       "      <th></th>\n",
       "      <th>fate</th>\n",
       "      <th>failed chastity filter</th>\n",
       "      <th>invalid barcode</th>\n",
       "      <th>low quality barcode</th>\n",
       "      <th>unparseable barcode</th>\n",
       "      <th>valid barcode</th>\n",
       "    </tr>\n",
       "    <tr>\n",
       "      <th>library</th>\n",
       "      <th>sample</th>\n",
       "      <th></th>\n",
       "      <th></th>\n",
       "      <th></th>\n",
       "      <th></th>\n",
       "      <th></th>\n",
       "    </tr>\n",
       "  </thead>\n",
       "  <tbody>\n",
       "    <tr>\n",
       "      <th rowspan=\"13\" valign=\"top\">lib1</th>\n",
       "      <th>expt_68-73-none-0-reference</th>\n",
       "      <td>213176</td>\n",
       "      <td>2455034</td>\n",
       "      <td>479114</td>\n",
       "      <td>103814</td>\n",
       "      <td>6480493</td>\n",
       "    </tr>\n",
       "    <tr>\n",
       "      <th>expt_68-S309-421-escape</th>\n",
       "      <td>56713</td>\n",
       "      <td>520979</td>\n",
       "      <td>123135</td>\n",
       "      <td>42311</td>\n",
       "      <td>1729027</td>\n",
       "    </tr>\n",
       "    <tr>\n",
       "      <th>expt_69-S2E12-56-escape</th>\n",
       "      <td>138430</td>\n",
       "      <td>1345786</td>\n",
       "      <td>314925</td>\n",
       "      <td>67355</td>\n",
       "      <td>4467484</td>\n",
       "    </tr>\n",
       "    <tr>\n",
       "      <th>expt_70-S2X35-70-escape</th>\n",
       "      <td>45302</td>\n",
       "      <td>433349</td>\n",
       "      <td>105003</td>\n",
       "      <td>25151</td>\n",
       "      <td>1459938</td>\n",
       "    </tr>\n",
       "    <tr>\n",
       "      <th>expt_71-S2X259-59-escape</th>\n",
       "      <td>51926</td>\n",
       "      <td>505386</td>\n",
       "      <td>120975</td>\n",
       "      <td>27948</td>\n",
       "      <td>1715892</td>\n",
       "    </tr>\n",
       "    <tr>\n",
       "      <th>expt_72-S2X58-18-escape</th>\n",
       "      <td>131619</td>\n",
       "      <td>1269771</td>\n",
       "      <td>304638</td>\n",
       "      <td>66349</td>\n",
       "      <td>4206175</td>\n",
       "    </tr>\n",
       "    <tr>\n",
       "      <th>expt_73-S304-46-escape</th>\n",
       "      <td>56090</td>\n",
       "      <td>558183</td>\n",
       "      <td>130969</td>\n",
       "      <td>30764</td>\n",
       "      <td>1797869</td>\n",
       "    </tr>\n",
       "    <tr>\n",
       "      <th>expt_74-78-none-0-reference</th>\n",
       "      <td>279726</td>\n",
       "      <td>3229902</td>\n",
       "      <td>640755</td>\n",
       "      <td>155651</td>\n",
       "      <td>8478606</td>\n",
       "    </tr>\n",
       "    <tr>\n",
       "      <th>expt_74-S2H58-46-escape</th>\n",
       "      <td>101327</td>\n",
       "      <td>946316</td>\n",
       "      <td>233246</td>\n",
       "      <td>52119</td>\n",
       "      <td>3205580</td>\n",
       "    </tr>\n",
       "    <tr>\n",
       "      <th>expt_75-S2D106-68-escape</th>\n",
       "      <td>96732</td>\n",
       "      <td>929023</td>\n",
       "      <td>220951</td>\n",
       "      <td>52851</td>\n",
       "      <td>3166600</td>\n",
       "    </tr>\n",
       "    <tr>\n",
       "      <th>expt_76-S2M11-19-escape</th>\n",
       "      <td>96579</td>\n",
       "      <td>912446</td>\n",
       "      <td>219528</td>\n",
       "      <td>51390</td>\n",
       "      <td>3114361</td>\n",
       "    </tr>\n",
       "    <tr>\n",
       "      <th>expt_77-S2X16-54-escape</th>\n",
       "      <td>99263</td>\n",
       "      <td>956574</td>\n",
       "      <td>233093</td>\n",
       "      <td>49898</td>\n",
       "      <td>3244146</td>\n",
       "    </tr>\n",
       "    <tr>\n",
       "      <th>expt_78-S2X227-138-escape</th>\n",
       "      <td>89899</td>\n",
       "      <td>868823</td>\n",
       "      <td>203773</td>\n",
       "      <td>57331</td>\n",
       "      <td>2839240</td>\n",
       "    </tr>\n",
       "  </tbody>\n",
       "</table>"
      ],
      "text/plain": [
       "<IPython.core.display.HTML object>"
      ]
     },
     "metadata": {},
     "output_type": "display_data"
    }
   ],
   "source": [
    "display(HTML(fates\n",
    "             .pivot_table(columns='fate',\n",
    "                          values='count',\n",
    "                          index=['library', 'sample'])\n",
    "             .to_html()\n",
    "             ))"
   ]
  },
  {
   "cell_type": "markdown",
   "metadata": {},
   "source": [
    "Now we plot the barcode-read fates for each library / sample, showing the bars for valid barcodes in orange and the others in gray.\n",
    "We see that the largest fraction of barcode reads correspond to valid barcodes, and most of the others are invalid barcodes (probably because the map to variants that aren't present in our variant table since we didn't associate all variants with barcodes). The exception to this is lib2 Titeseq_03_bin3; the PCR for this sample in the original sequencing run failed, so we followed it up with a single MiSeq lane. We did not filter out the PhiX reads from this data before parsing, so these PhiX reads will deflate the fraction of valid barcode reads as expected, but does not indicate any problems."
   ]
  },
  {
   "cell_type": "code",
   "execution_count": 20,
   "metadata": {
    "execution": {
     "iopub.execute_input": "2020-11-20T20:34:10.847105Z",
     "iopub.status.busy": "2020-11-20T20:34:10.846387Z",
     "iopub.status.idle": "2020-11-20T20:34:12.432586Z",
     "shell.execute_reply": "2020-11-20T20:34:12.432258Z"
    }
   },
   "outputs": [
    {
     "data": {
      "image/png": "[encoded data removed]",
      "text/plain": [
       "<Figure size 280x2414 with 13 Axes>"
      ]
     },
     "metadata": {
      "needs_background": "light"
     },
     "output_type": "display_data"
    }
   ],
   "source": [
    "barcode_fate_plot = (\n",
    "    ggplot(\n",
    "        fates\n",
    "        .assign(sample=lambda x: pd.Categorical(x['sample'],\n",
    "                                                x['sample'].unique(),\n",
    "                                                ordered=True),\n",
    "                fate=lambda x: pd.Categorical(x['fate'],\n",
    "                                              x['fate'].unique(),\n",
    "                                              ordered=True),\n",
    "                is_valid=lambda x: x['fate'] == 'valid barcode'\n",
    "                ), \n",
    "        aes('fate', 'count', fill='is_valid')) +\n",
    "    geom_bar(stat='identity') +\n",
    "    facet_grid('sample ~ library') +\n",
    "    facet_grid('sample ~ library') +\n",
    "    scale_fill_manual(CBPALETTE, guide=False) +\n",
    "    theme(figure_size=(1.4 * (1 + fates['library'].nunique()),\n",
    "                       1.7 * (1.2 + fates['sample'].nunique())),\n",
    "          axis_text_x=element_text(angle=90),\n",
    "          panel_grid_major_x=element_blank()\n",
    "          ) +\n",
    "    scale_y_continuous(labels=dms_variants.utils.latex_sci_not,\n",
    "                       name='number of reads')\n",
    "    )\n",
    "\n",
    "_ = barcode_fate_plot.draw()"
   ]
  },
  {
   "cell_type": "markdown",
   "metadata": {},
   "source": [
    "## Output csv of barcode counts"
   ]
  },
  {
   "cell_type": "code",
   "execution_count": 21,
   "metadata": {
    "execution": {
     "iopub.execute_input": "2020-11-20T20:34:12.435861Z",
     "iopub.status.busy": "2020-11-20T20:34:12.435391Z",
     "iopub.status.idle": "2020-11-20T20:34:13.068792Z",
     "shell.execute_reply": "2020-11-20T20:34:13.069282Z"
    }
   },
   "outputs": [
    {
     "name": "stdout",
     "output_type": "stream",
     "text": [
      "Writing variant counts to results/counts/variant_counts.csv\n"
     ]
    }
   ],
   "source": [
    "print(f\"Writing variant counts to {config['variant_counts']}\")\n",
    "counts.to_csv(config['variant_counts'], index=False)"
   ]
  }
 ],
 "metadata": {
  "kernelspec": {
   "display_name": "Python 3",
   "language": "python",
   "name": "python3"
  },
  "language_info": {
   "codemirror_mode": {
    "name": "ipython",
    "version": 3
   },
   "file_extension": ".py",
   "mimetype": "text/x-python",
   "name": "python",
   "nbconvert_exporter": "python",
   "pygments_lexer": "ipython3",
   "version": "3.8.5"
  },
  "toc": {
   "base_numbering": 1,
   "nav_menu": {},
   "number_sections": false,
   "sideBar": true,
   "skip_h1_title": false,
   "title_cell": "Table of Contents",
   "title_sidebar": "Contents",
   "toc_cell": true,
   "toc_position": {},
   "toc_section_display": true,
   "toc_window_display": true
  }
 },
 "nbformat": 4,
 "nbformat_minor": 4
}
